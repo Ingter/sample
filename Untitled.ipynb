{
 "cells": [
  {
   "cell_type": "code",
   "execution_count": 1,
   "metadata": {},
   "outputs": [
    {
     "name": "stdout",
     "output_type": "stream",
     "text": [
      "[1, 2, 3, 4]\n"
     ]
    }
   ],
   "source": [
    "m = [1,2,3,4]\n",
    "print(m)"
   ]
  },
  {
   "cell_type": "code",
   "execution_count": 3,
   "metadata": {},
   "outputs": [],
   "source": [
    "import requests"
   ]
  },
  {
   "cell_type": "code",
   "execution_count": 9,
   "metadata": {},
   "outputs": [],
   "source": [
    "req = requests.get('http://ggoreb.com')"
   ]
  },
  {
   "cell_type": "code",
   "execution_count": 10,
   "metadata": {
    "scrolled": true
   },
   "outputs": [
    {
     "data": {
      "text/plain": [
       "'<html lang=\\'ko\\'>\\n<head>\\n<title>재난소득가맹점</title>\\n\\n  <meta charset=\\'utf-8\\'>\\n  <meta name=\"viewport\" content=\"width=device-width, initial-scale=1\">\\n  <link rel=\"stylesheet\" href=\"https://maxcdn.bootstrapcdn.com/bootstrap/3.4.1/css/bootstrap.min.css\">\\n  <link href=\"https://fonts.googleapis.com/css?family=Montserrat\" rel=\"stylesheet\" type=\"text/css\">\\n  <link href=\"https://fonts.googleapis.com/css?family=Lato\" rel=\"stylesheet\" type=\"text/css\">\\n  <link href=\"spin.css\" rel=\"stylesheet\" type=\"text/css\">\\n\\n</head>\\n<body style=\\'text-align: center;\\'>\\n\\t<button class=\"btn btn-danger\" data-toggle=\"collapse\" data-target=\"#owner\">쥔장 정보</button>\\n\\t\\n\\t<div id=\"owner\" class=\"collapse\">\\n\\t\\t<img src=\\'profile.jpg\\' style=\\'width: 50%\\'>\\n\\t</div>\\n\\t<br>\\n\\t<hr>\\n\\t\\n\\t<div class=\"row\">\\n\\t\\t<div class=\"jumbotron text-center\">\\n\\t\\t  <h3>용인시 재난소득 가맹점</h3> \\n\\t\\t  <p>구 검색</p>\\n\\t\\t  <div class=\"btn-group btn-group-justified \">\\n\\t\\t\\t<a href=\"javascript:search(\\'address\\', \\'기흥구\\')\" class=\"btn btn-warning\">기흥구</a>\\n\\t\\t\\t<a href=\"javascript:search(\\'address\\', \\'수지구\\')\" class=\"btn btn-warning\">수지구</a>\\n\\t\\t\\t<a href=\"javascript:search(\\'address\\', \\'처인구\\')\" class=\"btn btn-warning\">처인구</a>\\n\\t\\t  </div>\\n\\t\\t  <br>\\n\\t\\t  <p>업종 검색</p>\\n\\t\\t  <div class=\"btn-group btn-group-justified\">\\n\\t\\t\\t<a href=\"javascript:search(\\'kind\\', \\'가구\\')\" class=\"btn btn-success\">가구</a>\\n\\t\\t\\t<a href=\"javascript:search(\\'kind\\', \\'건강식품\\')\" class=\"btn btn-success\">건강식품</a>\\n\\t\\t\\t<a href=\"javascript:search(\\'kind\\', \\'건축자재\\')\" class=\"btn btn-success\">건축자재</a>\\n\\t\\t\\t<a href=\"javascript:search(\\'kind\\', \\'광학제품\\')\" class=\"btn btn-success\">광학제품</a>\\n\\t\\t\\t<a href=\"javascript:search(\\'kind\\', \\'기타 학습자재\\')\" class=\"btn btn-success\">기타 학습자재</a>\\n\\t\\t  </div>\\n\\t\\t  <div class=\"btn-group btn-group-justified\">\\n\\t\\t\\t<a href=\"javascript:search(\\'kind\\', \\'기타\\')\" class=\"btn btn-success\">기타</a>\\n\\t\\t\\t<a href=\"javascript:search(\\'kind\\', \\'기타의료기관\\')\" class=\"btn btn-success\">기타의료기관</a>\\n\\t\\t\\t<a href=\"javascript:search(\\'kind\\', \\'농업\\')\" class=\"btn btn-success\">농업</a>\\n\\t\\t\\t<a href=\"javascript:search(\\'kind\\', \\'레저업소\\')\" class=\"btn btn-success\">레저업소</a>\\n\\t\\t\\t<a href=\"javascript:search(\\'kind\\', \\'레져용품\\')\" class=\"btn btn-success\">레져용품</a>\\n\\t\\t  </div>\\n\\t\\t  <div class=\"btn-group btn-group-justified\">\\n\\t\\t\\t<a href=\"javascript:search(\\'kind\\', \\'문화.취미\\')\" class=\"btn btn-success\">문화.취미</a>\\n\\t\\t\\t<a href=\"javascript:search(\\'kind\\', \\'별도관리\\')\" class=\"btn btn-success\">별도관리</a>\\n\\t\\t\\t<a href=\"javascript:search(\\'kind\\', \\'병원\\')\" class=\"btn btn-success\">병원</a>\\n\\t\\t\\t<a href=\"javascript:search(\\'kind\\', \\'보건위생\\')\" class=\"btn btn-success\">보건위생</a>\\n\\t\\t\\t<a href=\"javascript:search(\\'kind\\', \\'사료,종자\\')\" class=\"btn btn-success\">사료,종자</a>\\n\\t\\t  </div>\\n\\t\\t  <div class=\"btn-group btn-group-justified\">\\n\\t\\t\\t<a href=\"javascript:search(\\'kind\\', \\'사무통신\\')\" class=\"btn btn-success\">사무통신</a>\\n\\t\\t\\t<a href=\"javascript:search(\\'kind\\', \\'서적문구\\')\" class=\"btn btn-success\">서적문구</a>\\n\\t\\t\\t<a href=\"javascript:search(\\'kind\\', \\'수리서비스\\')\" class=\"btn btn-success\">수리서비스</a>\\n\\t\\t\\t<a href=\"javascript:search(\\'kind\\', \\'숙박업\\')\" class=\"btn btn-success\">숙박업</a>\\n\\t\\t\\t<a href=\"javascript:search(\\'kind\\', \\'신변잡화\\')\" class=\"btn btn-success\">신변잡화</a>\\n\\t\\t  </div>\\n\\t\\t  <div class=\"btn-group btn-group-justified\">\\n\\t\\t\\t<a href=\"javascript:search(\\'kind\\', \\'약국\\')\" class=\"btn btn-success\">약국</a>\\n\\t\\t\\t<a href=\"javascript:search(\\'kind\\', \\'여행\\')\" class=\"btn btn-success\">여행</a>\\n\\t\\t\\t<a href=\"javascript:search(\\'kind\\', \\'연료판매점\\')\" class=\"btn btn-success\">연료판매점</a>\\n\\t\\t\\t<a href=\"javascript:search(\\'kind\\', \\'용역 서비스\\')\" class=\"btn btn-success\">용역 서비스</a>\\n\\t\\t\\t<a href=\"javascript:search(\\'kind\\', \\'유통업 영리\\')\" class=\"btn btn-success\">유통업 영리</a>\\n\\t\\t  </div>\\n\\t\\t  <div class=\"btn-group btn-group-justified\">\\n\\t\\t\\t<a href=\"javascript:search(\\'kind\\', \\'음료식품\\')\" class=\"btn btn-success\">음료식품</a>\\n\\t\\t\\t<a href=\"javascript:search(\\'kind\\', \\'의류\\')\" class=\"btn btn-success\">의류</a>\\n\\t\\t\\t<a href=\"javascript:search(\\'kind\\', \\'의원\\')\" class=\"btn btn-success\">의원</a>\\n\\t\\t\\t<a href=\"javascript:search(\\'kind\\', \\'인쇄,출판\\')\" class=\"btn btn-success\">인쇄,출판</a>\\n\\t\\t\\t<a href=\"javascript:search(\\'kind\\', \\'일반휴게음식\\')\" class=\"btn btn-success\">일반휴게음식</a>\\n\\t\\t  </div>\\n\\t\\t  <div class=\"btn-group btn-group-justified\">\\n\\t\\t\\t<a href=\"javascript:search(\\'kind\\', \\'자동차정비 유지\\')\" class=\"btn btn-success\">자동차정비 유지</a>\\n\\t\\t\\t<a href=\"javascript:search(\\'kind\\', \\'자동차판매\\')\" class=\"btn btn-success\">자동차판매</a>\\n\\t\\t\\t<a href=\"javascript:search(\\'kind\\', \\'전기제품\\')\" class=\"btn btn-success\">전기제품</a>\\n\\t\\t\\t<a href=\"javascript:search(\\'kind\\', \\'정보없음\\')\" class=\"btn btn-success\">정보없음</a>\\n\\t\\t\\t<a href=\"javascript:search(\\'kind\\', \\'주방용구\\')\" class=\"btn btn-success\">주방용구</a>\\n\\t\\t  </div>\\n\\t\\t  <div class=\"btn-group btn-group-justified\">\\n\\t\\t\\t<a href=\"javascript:search(\\'kind\\', \\'직물\\')\" class=\"btn btn-success\">직물</a>\\n\\t\\t\\t<a href=\"javascript:search(\\'kind\\', \\'천막,지물\\')\" class=\"btn btn-success\">천막,지물</a>\\n\\t\\t\\t<a href=\"javascript:search(\\'kind\\', \\'축협 직영매장\\')\" class=\"btn btn-success\">축협 직영매장</a>\\n\\t\\t\\t<a href=\"javascript:search(\\'kind\\', \\'학원\\')\" class=\"btn btn-success\">학원</a>\\n\\t\\t\\t<a href=\"javascript:search(\\'kind\\', \\'회원제형태\\')\" class=\"btn btn-success\">회원제형태</a>\\n\\t\\t  </div>\\n\\t\\t  <div class=\"btn-group btn-group-justified\">\\n\\t\\t\\t<a href=\"javascript:search(\\'kind\\', \\'휴게음식점\\')\" class=\"btn btn-success\">휴게음식점</a>\\n\\t\\t  </div>\\n\\t\\t  <br>\\n\\t\\t  <p>주소 / 업종 / 매장명 검색</p>\\n\\t\\t  <form>\\n\\t\\t    <div class=\"input-group\">\\n\\t\\t      <input type=\"text\" class=\"form-control\" size=\"50\" placeholder=\"매장명, 주소, 업종 중 입력\" required>\\n\\t\\t      <div class=\"input-group-btn\">\\n\\t\\t        <button id=\"search\" type=\"button\" class=\"btn btn-danger\">검색</button>\\n\\t\\t      </div>\\n\\t\\t    </div>\\n\\t\\t  </form>\\n\\t\\t</div>\\n\\t\\t\\n\\t\\t<!-- Image of location/map -->\\n\\t\\t<p>표시된 매장 수 : <span id=\"shop_cnt\"></span></p>\\n\\t\\t<p>검색 정보 : <span id=\"type_info\"></span></p>\\n\\t\\t<div id=\"map\" style=\"width:100%;height:400px;\"></div>\\n\\t\\n\\t</div>\\t\\n\\t\\n\\t<hr>\\n\\n\\t<div class=\"row\">\\n\\t\\t<div class=\"col-sm-12\">\\n\\t\\t\\t<a href=\"game\" class=\"btn btn-default\" target=\"_blank\">Game</a> <a\\n\\t\\t\\t\\thref=\"javascript\" class=\"btn btn-default\" target=\"_blank\">Javascript</a>\\n\\t\\t</div>\\n\\t</div>\\n\\t<hr>\\n\\t\\n\\t<div class=\"row\">\\n\\n\\t\\t<div class=\"col-sm-6\">\\n\\t\\t\\t<div class=\"panel panel-default\">\\n\\t\\t\\t\\t<a href=\"#coding_test\" data-toggle=\"collapse\">\\n\\t\\t\\t\\t\\t<div class=\"panel-body\">코딩문제</div>\\n\\t\\t\\t\\t</a>\\n\\t\\t\\t</div>\\n\\t\\t\\t<ul class=\"list-group collapse\" id=\"coding_test\">\\n\\t\\t\\t\\t<a href=\"http://codingdojang.com/\" class=\"alert-success\"\\n\\t\\t\\t\\t\\ttarget=\"_blank\">\\n\\t\\t\\t\\t\\t<li class=\"list-group-item\">코딩도장</li>\\n\\t\\t\\t\\t</a>\\n\\t\\t\\t\\t<a href=\"https://www.acmicpc.net/\" class=\"alert-success\"\\n\\t\\t\\t\\t\\ttarget=\"_blank\">\\n\\t\\t\\t\\t\\t<li class=\"list-group-item\">백준 온라인 저지</li>\\n\\t\\t\\t\\t</a>\\n\\t\\t\\t\\t<a\\n\\t\\t\\t\\t\\thref=\"https://programmers.co.kr/learn/challenges?tab=all_challenges\"\\n\\t\\t\\t\\t\\tclass=\"alert-success\" target=\"_blank\">\\n\\t\\t\\t\\t\\t<li class=\"list-group-item\">프로그래머스 코딩테스트</li>\\n\\t\\t\\t\\t</a>\\n\\t\\t\\t</ul>\\n\\t\\t</div>\\n\\n\\t\\t<div class=\"col-sm-6\">\\n\\t\\t\\t<div class=\"panel panel-default\">\\n\\t\\t\\t\\t<a href=\"#learn\" data-toggle=\"collapse\">\\n\\t\\t\\t\\t\\t<div class=\"panel-body\">강좌 사이트</div>\\n\\t\\t\\t\\t</a>\\n\\t\\t\\t</div>\\n\\t\\t\\t<ul class=\"list-group collapse\" id=\"learn\">\\n\\t\\t\\t\\t<a href=\"https://www.inflearn.com/\" class=\"alert-success\"\\n\\t\\t\\t\\t\\ttarget=\"_blank\"><li class=\"list-group-item\">인프런</li></a>\\n\\t\\t\\t</ul>\\n\\t\\t</div>\\n\\n\\t</div>\\n\\t\\n  <script src=\"https://ajax.googleapis.com/ajax/libs/jquery/3.5.1/jquery.min.js\"></script>\\n  <script src=\"https://maxcdn.bootstrapcdn.com/bootstrap/3.4.1/js/bootstrap.min.js\"></script>\\n\\n  <script type=\"text/javascript\" src=\"//dapi.kakao.com/v2/maps/sdk.js?appkey=e9b803a88e1496b555e50e8f96f65226\"></script>\\n  <script src=\"spin.js\"></script>\\n  <script src=\"jquery.spin.js\"></script>\\n<script>\\n  \\n  var map = null;\\n  var markers = [];\\n\\n  // 용천초등학교 기준\\n  var latitude = 37.1916644580242;\\n  var longitude = 127.208137360312;\\n\\n  var container = document.getElementById(\\'map\\');\\n  var options = {\\n    center: new kakao.maps.LatLng(latitude, longitude),\\n    level: 6\\n  };\\n\\n  // map\\n  map = new kakao.maps.Map(container, options);\\n\\n  // 내 위치\\n  var markerPosition  = new kakao.maps.LatLng(latitude, longitude); \\n  var marker = new kakao.maps.Marker({\\n      position: markerPosition\\n  });\\n  marker.setMap(map);\\n\\n  showShop(latitude, longitude);\\n\\n  function showShop(latitude, longitude) {\\n    var imageSrc = \"https://t1.daumcdn.net/localimg/localimages/07/mapapidoc/markerStar.png\"; \\n    var imageSize = new kakao.maps.Size(24, 35); \\n    var markerImage = new kakao.maps.MarkerImage(imageSrc, imageSize); \\n\\n    $.ajax({\\n      url: \\'http://ggoreb.com/shop.jsp\\',\\n//       url: \\'http://localhost:8080/shop.jsp\\',\\n      data: {\\n        lat: latitude, lng: longitude\\n      },\\n      success: function(data) {\\n        var positions = [];\\n        var res = data.list;\\n        \\n        var shopCnt = data.count;\\n        var searchType = data.type;\\n        \\n        for(var i = 0; i < res.length; i++) {\\n          var name = res[i].name;\\n          var address = res[i].address;\\n          var lat = res[i].lat;\\n          var lng = res[i].lng;\\n          var kind = res[i].kind;\\n          var obj = {name: name, address: address, latlng: new kakao.maps.LatLng(lat, lng), kind: kind};\\n          positions.push(obj);\\n\\n          var marker2 = new kakao.maps.Marker({\\n              map: map, // 마커를 표시할 지도\\n              position: positions[i].latlng, // 마커를 표시할 위치\\n              title : positions[i].name, // 마커의 타이틀, 마커에 마우스를 올리면 타이틀이 표시됩니다\\n              image : markerImage // 마커 이미지 \\n          });\\n          markers.push(marker2);\\n          (function(m) {\\n            var iwContent = \\'<div style=\"padding:5px;font-size:10px\">\\' + positions[i].name + \\' / \\' +  positions[i].kind + \\'<br>\\' +  positions[i].address + \\'</div>\\',\\n                iwRemoveable = true;\\n\\n            var infowindow = new kakao.maps.InfoWindow({\\n                content : iwContent,\\n                removable : iwRemoveable\\n            });\\n\\n            kakao.maps.event.addListener(m, \\'click\\', function() {\\n                infowindow.open(map, m);\\n            });\\n          })(marker2);\\n\\n        }\\n        \\n        $(\\'#shop_cnt\\').text(shopCnt + \\'개\\');\\n        $(\\'#type_info\\').text(\\'용천초등학교 기준 반경 3km 이내 매장\\');\\n      }\\n    });\\n\\n  }\\n\\n  function search(type, text) {\\n\\t  $(\\'body\\').spin();\\n\\t    hideMarkers();    \\n\\t    var searchText = text;\\n\\n\\t    var imageSrc = \"https://t1.daumcdn.net/localimg/localimages/07/mapapidoc/markerStar.png\"; \\n\\t    var imageSize = new kakao.maps.Size(24, 35); \\n\\t    var markerImage = new kakao.maps.MarkerImage(imageSrc, imageSize); \\n\\n\\t    $.ajax({\\n\\t       url: \\'http://ggoreb.com/shop.jsp\\',\\n// \\t      url: \\'http://localhost:8080/shop.jsp\\',\\n\\t      data: {\\n\\t    \\ttype: type,\\n\\t        searchText: searchText\\n\\t      },\\n\\t      success: function(data) {\\n\\t        var positions = [];\\n\\t        var res = data.list;\\n\\t        \\n\\t        var shopCnt = data.count;\\n\\t        var searchType = data.type == \\'address\\' ? \\'주소\\' : data.type == \\'kind\\' ? \\'업종\\' : \\'전체\\';\\n\\t        \\n\\t        for(var i = 0; i < res.length; i++) {\\n\\t          var name = res[i].name;\\n\\t          var address = res[i].address;\\n\\t          var lat = res[i].lat;\\n\\t          var lng = res[i].lng;\\n\\t          var kind = res[i].kind;\\n\\t          var obj = {name: name, address: address, latlng: new kakao.maps.LatLng(lat, lng), kind: kind};\\n\\t          positions.push(obj);\\n\\n\\t          var marker2 = new kakao.maps.Marker({\\n\\t              map: map,\\n\\t              position: positions[i].latlng,\\n\\t              title : positions[i].name,\\n\\t              image : markerImage\\n\\t          });\\n\\t          markers.push(marker2);\\n\\t          (function(m) {\\n\\t            var iwContent = \\'<div style=\"padding:5px;font-size:10px\">\\' + positions[i].name + \\' / \\' +  positions[i].kind + \\'<br>\\' +  positions[i].address + \\'</div>\\',\\n\\t                iwRemoveable = true;\\n\\n\\t            var infowindow = new kakao.maps.InfoWindow({\\n\\t                content : iwContent,\\n\\t                removable : iwRemoveable\\n\\t            });\\n\\n\\t            kakao.maps.event.addListener(m, \\'click\\', function() {\\n\\t                infowindow.open(map, m);\\n\\t            });\\n\\t          })(marker2);\\n\\n\\t        }\\n\\t        \\n\\t        $(\\'#shop_cnt\\').text(shopCnt + \\'개\\');\\n\\t        $(\\'#type_info\\').text(searchType + \\' / \\' + searchText);\\n\\n\\t        $(\\'body\\').spin(false);\\n\\t      }\\n\\t    });\\n\\t  \\n  }\\n  \\n  $(\\'form input\\').keydown(function(key) {\\n    if (key.keyCode == 13) {\\n      $(\\'#search\\').trigger(\\'click\\');\\n      return false;\\n    }\\n  });\\n\\n  $(\\'#search\\').click(function() {\\n\\t  var searchText = $(\\'form input\\').val();\\n\\t  search(\\'all\\', searchText)\\n  });\\n\\n  function hideMarkers() {\\n    setMarkers(null);    \\n  }\\n\\n  function setMarkers(map) {\\n    for (var i = 0; i < markers.length; i++) {\\n        markers[i].setMap(map);\\n    }            \\n  }\\n</script>\\n\\n\\n\\n  <!-- Global site tag (gtag.js) - Google Analytics -->\\n  <script async src=\"https://www.googletagmanager.com/gtag/js?id=UA-165858993-1\"></script>\\n  <script>\\n    window.dataLayer = window.dataLayer || [];\\n    function gtag(){dataLayer.push(arguments);}\\n    gtag(\\'js\\', new Date());\\n\\n    gtag(\\'config\\', \\'UA-165858993-1\\');\\n  </script>\\n\\n\\t<!-- 카카오 애드핏 설정 -->\\n\\t<ins class=\"kakao_ad_area\" style=\"display: none;\"\\n\\t\\tdata-ad-unit=\"DAN-1hbg096srx9id\" data-ad-width=\"250\"\\n\\t\\tdata-ad-height=\"250\"></ins>\\n\\t<script type=\"text/javascript\"\\n\\t\\tsrc=\"https://t1.daumcdn.net/kas/static/ba.min.js\" async></script>\\n\\n</body>\\n</html>'"
      ]
     },
     "execution_count": 10,
     "metadata": {},
     "output_type": "execute_result"
    }
   ],
   "source": [
    "req.encoding = 'utf-8'\n",
    "req.text"
   ]
  },
  {
   "cell_type": "code",
   "execution_count": null,
   "metadata": {},
   "outputs": [],
   "source": []
  }
 ],
 "metadata": {
  "kernelspec": {
   "display_name": "Python 3",
   "language": "python",
   "name": "python3"
  },
  "language_info": {
   "codemirror_mode": {
    "name": "ipython",
    "version": 3
   },
   "file_extension": ".py",
   "mimetype": "text/x-python",
   "name": "python",
   "nbconvert_exporter": "python",
   "pygments_lexer": "ipython3",
   "version": "3.8.5"
  }
 },
 "nbformat": 4,
 "nbformat_minor": 4
}
